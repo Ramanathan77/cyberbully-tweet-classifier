{
 "cells": [
  {
   "cell_type": "code",
   "execution_count": null,
   "id": "5f2c8d7a",
   "metadata": {},
   "outputs": [],
   "source": [
    "import pandas as pd\n",
    "\n",
    "# Load dataset (CSV inside ZIP)\n",
    "df = pd.read_csv('../data/cyberbullying_tweets.csv.zip')\n",
    "\n",
    "# Display first few rows\n",
    "df.head()\n"
   ]
  },
  {
   "cell_type": "code",
   "execution_count": null,
   "id": "db06ea04",
   "metadata": {},
   "outputs": [],
   "source": [
    "# Check for null values and data types\n",
    "df.info()\n",
    "df.isnull().sum()\n"
   ]
  },
  {
   "cell_type": "code",
   "execution_count": null,
   "id": "09acfe0e",
   "metadata": {},
   "outputs": [],
   "source": [
    "import re\n",
    "import nltk\n",
    "from nltk.corpus import stopwords\n",
    "\n",
    "nltk.download('stopwords')\n",
    "stop_words = set(stopwords.words('english'))\n",
    "\n",
    "def preprocess_text(text):\n",
    "    text = text.lower()\n",
    "    text = re.sub(r\"http\\S+|www\\S+\", '', text)\n",
    "    text = re.sub(r'@\\w+|#\\w+', '', text)\n",
    "    text = re.sub(r'[^a-zA-Z\\s]', '', text)\n",
    "    text = \" \".join(word for word in text.split() if word not in stop_words)\n",
    "    return text\n"
   ]
  },
  {
   "cell_type": "code",
   "execution_count": null,
   "id": "9db61d0c",
   "metadata": {},
   "outputs": [],
   "source": [
    "df['tweet_text'] = df['tweet_text'].astype(str)  # Ensure no NaN\n",
    "df['tweet_text'] = df['tweet_text'].apply(preprocess_text)\n",
    "\n",
    "# Show cleaned text\n",
    "df[['tweet_text', 'cyberbullying_type']].head()\n"
   ]
  },
  {
   "cell_type": "code",
   "execution_count": null,
   "id": "bacb4783",
   "metadata": {},
   "outputs": [],
   "source": [
    "from sklearn.model_selection import train_test_split\n",
    "\n",
    "# Encode target labels\n",
    "df['label'] = df['cyberbullying_type'].astype('category').cat.codes\n",
    "\n",
    "X = df['tweet_text']\n",
    "y = df['label']\n",
    "\n",
    "X_train, X_test, y_train, y_test = train_test_split(X, y, test_size=0.2, random_state=42)\n"
   ]
  },
  {
   "cell_type": "code",
   "execution_count": null,
   "id": "49a53c75",
   "metadata": {},
   "outputs": [],
   "source": [
    "from sklearn.feature_extraction.text import TfidfVectorizer\n",
    "\n",
    "vectorizer = TfidfVectorizer(max_features=5000)\n",
    "X_train_vec = vectorizer.fit_transform(X_train)\n",
    "X_test_vec = vectorizer.transform(X_test)\n"
   ]
  },
  {
   "cell_type": "code",
   "execution_count": null,
   "id": "320a4e51",
   "metadata": {},
   "outputs": [],
   "source": [
    "from sklearn.linear_model import LogisticRegression\n",
    "from sklearn.metrics import classification_report\n",
    "\n",
    "model = LogisticRegression(max_iter=1000)\n",
    "model.fit(X_train_vec, y_train)\n",
    "\n",
    "y_pred = model.predict(X_test_vec)\n",
    "\n",
    "# Show performance\n",
    "print(classification_report(y_test, y_pred))\n"
   ]
  },
  {
   "cell_type": "code",
   "execution_count": null,
   "id": "b5bdb11d",
   "metadata": {},
   "outputs": [],
   "source": [
    "import pickle\n",
    "\n",
    "with open('../models/cyberbully_classifier.pkl', 'wb') as f:\n",
    "    pickle.dump(model, f)\n",
    "\n",
    "with open('../models/tfidf_vectorizer.pkl', 'wb') as f:\n",
    "    pickle.dump(vectorizer, f)\n"
   ]
  },
  {
   "cell_type": "code",
   "execution_count": null,
   "id": "3521273a",
   "metadata": {},
   "outputs": [],
   "source": [
    "def predict_text(text):\n",
    "    cleaned = preprocess_text(text)\n",
    "    vect = vectorizer.transform([cleaned])\n",
    "    pred = model.predict(vect)[0]\n",
    "    label = df['cyberbullying_type'].astype('category').cat.categories[pred]\n",
    "    return label\n",
    "\n",
    "# Try prediction\n",
    "predict_text(\"You're such a loser\")\n"
   ]
  },
  {
   "cell_type": "code",
   "execution_count": null,
   "id": "08292ef2",
   "metadata": {},
   "outputs": [],
   "source": [
    "predict_text(\"good\")\n",
    "\n",
    "\n"
   ]
  }
 ],
 "metadata": {
  "kernelspec": {
   "display_name": "Python 3",
   "language": "python",
   "name": "python3"
  },
  "language_info": {
   "codemirror_mode": {
    "name": "ipython",
    "version": 3
   },
   "file_extension": ".py",
   "mimetype": "text/x-python",
   "name": "python",
   "nbconvert_exporter": "python",
   "pygments_lexer": "ipython3",
   "version": "3.13.0"
  }
 },
 "nbformat": 4,
 "nbformat_minor": 5
}
